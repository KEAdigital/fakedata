{
 "cells": [
  {
   "cell_type": "markdown",
   "id": "bbeeebc8-a842-4257-8d42-fd3d40cf2e9f",
   "metadata": {},
   "source": [
    "# Web"
   ]
  },
  {
   "cell_type": "code",
   "execution_count": 13,
   "id": "e2be8c37-d849-4d73-abac-f421a48f6425",
   "metadata": {},
   "outputs": [],
   "source": [
    "# Import\n",
    "from requests import get\n",
    "import requests\n",
    "from bs4 import BeautifulSoup\n",
    "import json\n",
    "import pandas as pd\n",
    "import re"
   ]
  },
  {
   "cell_type": "code",
   "execution_count": 14,
   "id": "1290f340-70dd-42e4-8c32-b115b98e8a3e",
   "metadata": {},
   "outputs": [],
   "source": [
    "# Set www side\n",
    "url = 'https://m.dk/stationer/'\n",
    "response = requests.get(url)\n",
    "main_page = response.content"
   ]
  },
  {
   "cell_type": "code",
   "execution_count": 15,
   "id": "03f39890-294e-4d5f-96cf-67b0eb39e7a1",
   "metadata": {},
   "outputs": [],
   "source": [
    "soup = BeautifulSoup(main_page, 'html.parser')\n",
    "#get all links from main page\n",
    "get_all_attrib=soup.find_all(\"a\", attrs={\"class\":'quick-access-item quick-access-item--station'}, href=True)"
   ]
  },
  {
   "cell_type": "code",
   "execution_count": 16,
   "id": "03d17fd6-5fbe-4bd5-8ce0-afaf763cd1d7",
   "metadata": {},
   "outputs": [],
   "source": [
    "all_rows=[]"
   ]
  },
  {
   "cell_type": "code",
   "execution_count": 17,
   "id": "74a4bdd4-7382-45f4-b426-5ac1add7428b",
   "metadata": {},
   "outputs": [
    {
     "name": "stdout",
     "output_type": "stream",
     "text": [
      "/stationer/vanløse/\n",
      "/stationer/flintholm/\n",
      "/stationer/lindevang/\n",
      "/stationer/fasanvej/\n",
      "/stationer/frederiksberg/\n",
      "/stationer/forum/\n",
      "/stationer/nørreport/\n",
      "/stationer/kongens-nytorv/\n",
      "/stationer/christianshavn/\n",
      "/stationer/amagerbro/\n",
      "/stationer/lergravsparken/\n",
      "/stationer/øresund/\n",
      "/stationer/amager-strand/\n",
      "/stationer/femøren/\n",
      "/stationer/kastrup/\n",
      "/stationer/københavns-lufthavn/\n",
      "/stationer/islands-brygge/\n",
      "/stationer/dr-byen/\n",
      "/stationer/sundby/\n",
      "/stationer/bella-center/\n",
      "/stationer/ørestad/\n",
      "/stationer/vestamager/\n",
      "/stationer/marmorkirken/\n",
      "/stationer/gammel-strand/\n",
      "/stationer/rådhuspladsen/\n",
      "/stationer/københavn-h/\n",
      "/stationer/enghave-plads/\n",
      "/stationer/frederiksberg-allé/\n",
      "/stationer/aksel-møllers-have/\n",
      "/stationer/nuuks-plads/\n",
      "/stationer/nørrebros-runddel/\n",
      "/stationer/nørrebro/\n",
      "/stationer/skjolds-plads/\n",
      "/stationer/vibenshus-runddel/\n",
      "/stationer/poul-henningsens-plads/\n",
      "/stationer/trianglen/\n",
      "/stationer/østerport/\n",
      "/stationer/nordhavn/\n",
      "/stationer/orientkaj/\n",
      "/stationer/havneholmen/\n",
      "-------------Indviet i slutningen af september 2019\n",
      "/stationer/enghave-brygge/\n",
      "/stationer/sluseholmen/\n",
      "/stationer/ny-ellebjerg/\n",
      "/stationer/mozarts-plads/\n"
     ]
    }
   ],
   "source": [
    "#looping through all links one by one\n",
    "for a in get_all_attrib:\n",
    "    data=[]\n",
    "    text_data=''\n",
    "    linjer=types=indviet=elevatorer=''\n",
    "    print(a['href'])\n",
    "    #get single page links and make a request\n",
    "    url2='https://m.dk/'+a['href']\n",
    "    response2 = requests.get(url2)\n",
    "    main_content = response2.content\n",
    "\n",
    "    soup2 = BeautifulSoup(main_content, 'html.parser')\n",
    "    heading_name = soup2.find(\"h1\", attrs={\"class\":'page-header__title'})\n",
    "\n",
    "    #append heading name\n",
    "    data.append(str(heading_name.text))\n",
    "    get_para=soup2.find(\"div\", attrs={\"class\":'content-block__text'}).findAll('p')\n",
    "\n",
    "    for p in get_para:\n",
    "        if p.find(\"span\", attrs={\"class\":'headline--large'}) == None:\n",
    "            desc = str(p.text)\n",
    "            desc = desc.replace(u'\\xa0', u' ')\n",
    "            text_data+=desc\n",
    "            inside_link = p.find('a')\n",
    "\n",
    "            # if in paragraph there is a hyperlink then again make request\n",
    "            if inside_link is not None:\n",
    "\n",
    "                url3='https://m.dk/'+inside_link['href']\n",
    "                response3 = requests.get(url3)\n",
    "                newpage_content = response3.content\n",
    "                soup3 = BeautifulSoup(newpage_content, 'html.parser')\n",
    "                get_list=soup3.find_all(\"div\", attrs={\"class\":'content-block__text'})\n",
    "                ul =get_list[1].findAll('li')\n",
    "                for li in ul:\n",
    "                    m = li.text\n",
    "                    if ':' in m:\n",
    "                        key,val=m.split(':')\n",
    "\n",
    "                        if key in ['Linjer','Indviet','Type','Elevatorer']:\n",
    "                            result = {} \n",
    "                            val=val.strip()\n",
    "                            val=val.replace(u'\\xa0', u' ')\n",
    "            \n",
    "                            if str(key) in 'Linjer':\n",
    "                                linjer=val\n",
    "                            elif str(key) in 'Indviet':\n",
    "                                indviet=val\n",
    "                            elif str(key) in 'Type':\n",
    "                                types=val\n",
    "                            elif str(key) in 'Elevatorer':\n",
    "                                elevatorer=val  \n",
    "                    else:\n",
    "                        print(\"-------------\" + m)\n",
    "                        for i in  ['Linjer','Indviet','Type','Elevatorer']:\n",
    "                            if 'Blev indviet' in m:\n",
    "                                m = m.replace('Blev indviet', 'Indviet')\n",
    "                            if i in m or i.lower() in m:\n",
    "\n",
    "                                split_strings = m.split()\n",
    "                                split_strings.insert(1, ':')\n",
    "                                final_string = ' '.join(split_strings)\n",
    "\n",
    "                                key,val=final_string.split(':')\n",
    "\n",
    "                                result = {} \n",
    "                                val=val.strip()\n",
    "                                val=val.replace(u'\\xa0', u' ')\n",
    "                                key=key.strip()\n",
    "\n",
    "                                if str(key) in 'Linjer':\n",
    "                                    linjer=val\n",
    "                                elif str(key) in 'Indviet':\n",
    "                                    indviet=val\n",
    "                                elif str(key) in 'Type':\n",
    "                                    types=val\n",
    "                                elif str(key) in 'Elevatorer':\n",
    "                                    elevatorer=val"
   ]
  },
  {
   "cell_type": "code",
   "execution_count": 18,
   "id": "cbf0444f-3bfa-4b80-bf5b-c914556ba3c4",
   "metadata": {},
   "outputs": [],
   "source": [
    "    #append desciption\n",
    "    data.append(text_data)\n",
    "    get_list=soup2.find_all(\"div\", attrs={\"class\":'content-block__text'})\n",
    "    ul =get_list[1].findAll('li')"
   ]
  },
  {
   "cell_type": "code",
   "execution_count": 19,
   "id": "bba09677-920a-43c7-b39d-3f4f8f11c9a8",
   "metadata": {},
   "outputs": [],
   "source": [
    "#travers in unordered list and get relevant information from li\n",
    "    for li in ul:\n",
    "        #print(li.text)\n",
    "        m = li.text\n",
    "        if ':' in m:\n",
    "            key,val=m.split(':')\n",
    "\n",
    "        if key in ['Linjer','Indviet','Type','Elevatorer']:\n",
    "            result = {} \n",
    "            val=val.strip()\n",
    "            val=val.replace(u'\\xa0', u' ')\n",
    "          \n",
    "        if str(key) in 'Linjer':\n",
    "            linjer=val\n",
    "        elif str(key) in 'Indviet':\n",
    "            indviet=val                 \n",
    "        elif str(key) in 'Type':\n",
    "            types=val                 \n",
    "        elif str(key) in 'Elevatorer':\n",
    "             elevatorer=val \n",
    "        else:\n",
    "            for i in  ['Linjer','Indviet','Type','Elevatorer']:\n",
    "                if 'Blev indviet' in m:\n",
    "                    m = m.replace('Blev indviet', 'Indviet')\n",
    "                if i in m or i.lower() in m:\n",
    "                    split_strings = m.split()\n",
    "                    split_strings.insert(1, ':')\n",
    "                    final_string = ' '.join(split_strings)\n",
    "\n",
    "                    key,val=final_string.split(':')\n",
    "\n",
    "                    result = {} \n",
    "                    val=val.strip()\n",
    "                    val=val.replace(u'\\xa0', u' ')\n",
    "                    key=key.strip()\n",
    "\n",
    "                    if str(key) in 'Linjer':\n",
    "                        linjer=val\n",
    "                    elif str(key) in 'Indviet':\n",
    "                        indviet=val\n",
    "                    elif str(key) in 'Type':\n",
    "                        types=val\n",
    "                    elif str(key) in 'Elevatorer':\n",
    "                        elevatorer=val"
   ]
  },
  {
   "cell_type": "code",
   "execution_count": 20,
   "id": "ec76377b-34cb-4190-94df-90e1f9f3ef9d",
   "metadata": {},
   "outputs": [
    {
     "name": "stdout",
     "output_type": "stream",
     "text": [
      "['Mozarts Plads', 'Mozarts Plads er en af de fem kommende metrostationer i Sydhavn, som åbner i 2024. Stationen vil ligge i udkanten af pladsen, så der atter er plads til ophold i området omkring stationen. ', '', '', '', '']\n",
      "6\n",
      "\n"
     ]
    }
   ],
   "source": [
    "    #append remaining data\n",
    "    data.append(linjer)\n",
    "    data.append(indviet)\n",
    "    data.append(types)\n",
    "    data.append(elevatorer)\n",
    "    print(data)\n",
    "    print(len(data))\n",
    "    all_rows.append(tuple(data))\n",
    "    print()"
   ]
  },
  {
   "cell_type": "code",
   "execution_count": 21,
   "id": "b56f539a-4ff4-4ee3-922e-d72809706931",
   "metadata": {},
   "outputs": [],
   "source": [
    "#convert to dataframe and then to excel\n",
    "df= pd.DataFrame(all_rows, columns=['Name',  'Desc', 'Linjer', 'Indvidet', 'Type', 'Elevator'])\n",
    "df.to_excel('scrap_bus.xlsx', index=False)"
   ]
  },
  {
   "cell_type": "code",
   "execution_count": null,
   "id": "bfd13b27-78a9-46e4-b46f-87bcfd18b4f1",
   "metadata": {},
   "outputs": [],
   "source": []
  }
 ],
 "metadata": {
  "kernelspec": {
   "display_name": "Python 3 (ipykernel)",
   "language": "python",
   "name": "python3"
  },
  "language_info": {
   "codemirror_mode": {
    "name": "ipython",
    "version": 3
   },
   "file_extension": ".py",
   "mimetype": "text/x-python",
   "name": "python",
   "nbconvert_exporter": "python",
   "pygments_lexer": "ipython3",
   "version": "3.10.2"
  }
 },
 "nbformat": 4,
 "nbformat_minor": 5
}
