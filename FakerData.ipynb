{
 "cells": [
  {
   "cell_type": "markdown",
   "id": "59b94be0",
   "metadata": {},
   "source": [
    "# Random Data\n",
    "https://pypi.org/project/Faker/\n",
    "\n",
    "Oprettelse af følgende data filer:\n",
    "\n",
    "- Customeres\n",
    "- Employees\n",
    "- Orders\n",
    "- Products - 20 produkter fast defineret"
   ]
  },
  {
   "cell_type": "markdown",
   "id": "7c650c82",
   "metadata": {},
   "source": [
    "## Faker\n",
    "### install Faker\n",
    "pip install Faker\n",
    "\n",
    "## XlsxWriter\n",
    "pip install XlsxWriter"
   ]
  },
  {
   "cell_type": "code",
   "execution_count": null,
   "id": "b42ebd15",
   "metadata": {},
   "outputs": [],
   "source": [
    "# Import af moduler\n",
    "from faker import Factory\n",
    "import pandas as pd\n",
    "import random\n",
    "import xlsxwriter"
   ]
  },
  {
   "cell_type": "code",
   "execution_count": null,
   "id": "c7f619d9",
   "metadata": {},
   "outputs": [],
   "source": [
    "# Use Faker\n",
    "fake = Factory.create()"
   ]
  },
  {
   "cell_type": "markdown",
   "id": "b6bda7d4",
   "metadata": {},
   "source": [
    "## Setup\n",
    "Du kan her vælge hvor mange; customeres, sales og employees du vil have i dit datasæt.\n",
    "Bemærk dog at hvis du sætter tallet *meget* højt vil det tage relativ lang tid at generer data.\n",
    "\n",
    "I hvilket format du vil eksportere data."
   ]
  },
  {
   "cell_type": "code",
   "execution_count": null,
   "id": "47bd2fcc",
   "metadata": {},
   "outputs": [],
   "source": [
    "# Antal\n",
    "no_customeres = 20\n",
    "no_sales = 1000\n",
    "no_employee = 10\n",
    "\n",
    "# Eksport typer\n",
    "exp_csv = True           # Gem til CSV\n",
    "exp_excel = True         # Gem til én Excel fil\n",
    "exp_sql_script = True    # Gem til SQL Scripts\n",
    "exp_mysql_azure = True   # Gem direkte til en SQL Server"
   ]
  },
  {
   "cell_type": "code",
   "execution_count": null,
   "id": "187c2a60-4094-4177-8413-ba4af4a9a8bd",
   "metadata": {},
   "outputs": [],
   "source": [
    "# Connection data\n",
    "# Hvis der skal eksporteres til en Azure databasse\n",
    "if exp_mysql_azure:\n",
    "    from configparser import ConfigParser\n",
    "\n",
    "    # Læs config file - database.cfg\n",
    "    parser = ConfigParser()\n",
    "    _ = parser.read('database.cfg')\n",
    "\n",
    "    # Data\n",
    "    username = parser.get('database', 'username')\n",
    "    password = parser.get('database', 'password')\n",
    "    host = parser.get('database', 'host')\n",
    "    port = parser.get('database', 'port')\n",
    "    db_name = parser.get('database', 'db_name')"
   ]
  },
  {
   "cell_type": "markdown",
   "id": "bcd6dc8e",
   "metadata": {},
   "source": [
    "## Customers"
   ]
  },
  {
   "cell_type": "code",
   "execution_count": null,
   "id": "e6e98ddd",
   "metadata": {},
   "outputs": [],
   "source": [
    "# Customers Dataframe\n",
    "df_customers = pd.DataFrame(columns=[\n",
    "    'customer_id',\n",
    "    'first_name',\n",
    "    'last_name',\n",
    "    'address',\n",
    "    'postcode',\n",
    "    'city',\n",
    "    'country',\n",
    "    'email',\n",
    "    'date_of_birth'])"
   ]
  },
  {
   "cell_type": "code",
   "execution_count": null,
   "id": "2f019687",
   "metadata": {},
   "outputs": [],
   "source": [
    "# Tilføj Customers\n",
    "for i in range(no_customeres):\n",
    "    data = [\n",
    "        i+1,\n",
    "        fake.first_name(),\n",
    "        fake.last_name(),  \n",
    "        fake.address(),\n",
    "        fake.postcode(),    \n",
    "        fake.city(),\n",
    "        fake.country(),\n",
    "        fake.ascii_safe_email(),\n",
    "        fake.date_of_birth(minimum_age = 19, maximum_age = 67)]\n",
    "    df_customers.loc[i] = [item for item in data]"
   ]
  },
  {
   "cell_type": "code",
   "execution_count": null,
   "id": "d02dc988",
   "metadata": {},
   "outputs": [],
   "source": [
    "df_customers.head()"
   ]
  },
  {
   "cell_type": "markdown",
   "id": "37d241f2",
   "metadata": {},
   "source": [
    "## Order"
   ]
  },
  {
   "cell_type": "code",
   "execution_count": null,
   "id": "d2e8edef",
   "metadata": {},
   "outputs": [],
   "source": [
    "## Order Dataframe\n",
    "df_order = pd.DataFrame(columns=[\n",
    "    'order_id',\n",
    "    'product_id',\n",
    "    'quantity',\n",
    "    'customer_id',\n",
    "    'orderdate',\n",
    "    'employee_id'])"
   ]
  },
  {
   "cell_type": "code",
   "execution_count": null,
   "id": "d560985e",
   "metadata": {},
   "outputs": [],
   "source": [
    "# Tilføj Order\n",
    "for i in range(no_sales):\n",
    "    data = [\n",
    "        fake.random_int(10000, 15000),\n",
    "        fake.random_int(0, 20),\n",
    "        fake.random_int(1, 100),\n",
    "        fake.random_int(0, 200),    \n",
    "        fake.date_between(start_date='-3y', end_date='now'),\n",
    "        fake.random_int(1, no_employee)]\n",
    "    df_order.loc[i] = [item for item in data]"
   ]
  },
  {
   "cell_type": "code",
   "execution_count": null,
   "id": "f59aba18",
   "metadata": {},
   "outputs": [],
   "source": [
    "# Tilføj Deliverydate\n",
    "df_order['deliverydate'] = df_order['orderdate'] + pd.DateOffset(days=fake.random_int(0, 12))"
   ]
  },
  {
   "cell_type": "code",
   "execution_count": null,
   "id": "0beba7f4",
   "metadata": {},
   "outputs": [],
   "source": [
    "#df_order.head()\n",
    "df_order.tail()"
   ]
  },
  {
   "cell_type": "markdown",
   "id": "d04436b2",
   "metadata": {},
   "source": [
    "## Employee"
   ]
  },
  {
   "cell_type": "code",
   "execution_count": null,
   "id": "180045a6",
   "metadata": {},
   "outputs": [],
   "source": [
    "## Employee Dataframe\n",
    "df_employee = pd.DataFrame(columns=[\n",
    "    'employee_id',\n",
    "    'firstname',\n",
    "    'lastname',\n",
    "    'date_of_birth'])"
   ]
  },
  {
   "cell_type": "code",
   "execution_count": null,
   "id": "719c3900",
   "metadata": {},
   "outputs": [],
   "source": [
    "# Tilføj Employee\n",
    "for i in range(no_employee):\n",
    "    data = [\n",
    "        i+1,\n",
    "        fake.first_name(),\n",
    "        fake.last_name(),  \n",
    "        fake.date_of_birth(minimum_age = 19, maximum_age = 67)]\n",
    "    df_employee.loc[i] = [item for item in data]"
   ]
  },
  {
   "cell_type": "code",
   "execution_count": null,
   "id": "560bcf5d",
   "metadata": {},
   "outputs": [],
   "source": [
    "df_employee"
   ]
  },
  {
   "cell_type": "markdown",
   "id": "2421746a",
   "metadata": {},
   "source": [
    "## Products"
   ]
  },
  {
   "cell_type": "code",
   "execution_count": null,
   "id": "c1b9a16a",
   "metadata": {},
   "outputs": [],
   "source": [
    "# Liste af produkter\n",
    "produkt_data = [\n",
    "    [1 , 'Chai', 26.50, 104, 50, 'standard'],\n",
    "    [2 , 'Chef Anton Cajun Seasoning', 109.00, 53, 25, 'luxury'],\n",
    "    [3 , 'Chef Anton Gumbo Mix', 87.75, 34, 20, 'luxury'],\n",
    "    [4 , 'Tofu', 15.00, 20, 17.75, 'standard'],\n",
    "    [5 , 'Sir Rodney Marmalade', 99.75, 28, 30, 'luxury'],\n",
    "    [6 , 'Sir Rodney Scones', 47.75, 60, 80, 'luxury'],\n",
    "    [7 , 'Geitost', 72.25, 230, 100, 'luxury'],\n",
    "    [8 , 'Gravad lax', 99.00, 147, 100, 'luxury'],\n",
    "    [9 , 'Cte de Blaye', 56.50, 0, 20, 'standard'],\n",
    "    [10 , 'Chartreuse verte', 29.50, 9, 20, 'standard'],\n",
    "    [11 , 'Boston Crab Meat', 299.75, 30, 20, 'luxury'],\n",
    "    [12 , 'Chocolade', 140.50, 26, 20, 'standard'],\n",
    "    [13 , 'Raclette Courdavault', 67.75, 0, 20, 'luxury'],\n",
    "    [14 , 'Camembert Pierrot', 75.50, 89, 50, 'luxury'],\n",
    "    [15 , 'Tarte au sucre', 37.75, 0, 20, 'luxury'],\n",
    "    [16 , 'Louisiana Hot Spiced Okra', 152.00, 98, 40, 'luxury'],\n",
    "    [17 , 'Laughing Lumberjack Lager', 205.50, 54, 20, 'luxury'],\n",
    "    [18 , 'Scottish Longbreads', 89.75, 19, 20, 'luxury'],\n",
    "    [19 , 'Outback Lager', 199.50, 24, 20, 'standard'],\n",
    "    [20 , 'Rd Kaviar', 299.50, 72, 20, 'luxury']\n",
    "]\n",
    "\n",
    "# Opret Dataframe\n",
    "df_products = pd.DataFrame(produkt_data, columns = ['product_id', 'productname', 'unitprice', 'stock', 'reorder', 'type'])"
   ]
  },
  {
   "cell_type": "code",
   "execution_count": null,
   "id": "03dd486e",
   "metadata": {},
   "outputs": [],
   "source": [
    "df_products"
   ]
  },
  {
   "cell_type": "markdown",
   "id": "3a517b88",
   "metadata": {},
   "source": [
    "# Export\n",
    "Export af data til CSV, Excewl og SQL.\n",
    "\n",
    "I Excel gemmes der én Excel fil, med data fordelt på 4 ark.\n",
    "\n",
    "I CSV gemmes der til en CSV filer pr. dataframe - altså 4 csv filer."
   ]
  },
  {
   "cell_type": "code",
   "execution_count": null,
   "id": "894b2221",
   "metadata": {},
   "outputs": [],
   "source": [
    "# Gem til CSV\n",
    "if exp_csv:\n",
    "    df_customers.to_csv('customers.csv', sep=';', index=False)\n",
    "    df_order.to_csv('order.csv', sep=';', index=False, decimal=',')\n",
    "    df_employee.to_csv('employees.csv', sep=';', index=False)\n",
    "    df_products.to_csv('products.csv', sep=';', index=False)"
   ]
  },
  {
   "cell_type": "code",
   "execution_count": null,
   "id": "0bef39ff",
   "metadata": {},
   "outputs": [],
   "source": [
    "# Gem til Excel\n",
    "if exp_excel:\n",
    "    create_excel = pd.ExcelWriter('sales_data.xlsx', engine='xlsxwriter', date_format='dd-mm-yyyy')\n",
    "\n",
    "    # Overfør hver DF til Excel\n",
    "    df_customers.to_excel(create_excel, sheet_name='customers', index=False)\n",
    "    df_order.to_excel(create_excel, sheet_name='order', index=False)\n",
    "    df_employee.to_excel(create_excel, sheet_name='employee', index=False)\n",
    "    df_products.to_excel(create_excel, sheet_name='products', index=False)\n",
    "\n",
    "    # Gem Excel fil\n",
    "    create_excel.save()"
   ]
  },
  {
   "cell_type": "code",
   "execution_count": null,
   "id": "2009754f-8628-48be-ae69-8ab03ba3ce2c",
   "metadata": {},
   "outputs": [],
   "source": [
    "# Gem til SQL Script\n",
    "# Skal afvikles på en MySQL server\n",
    "#if exp_sql_script:\n"
   ]
  },
  {
   "cell_type": "markdown",
   "id": "d99ed1a6-6020-4773-b604-011dbb031274",
   "metadata": {},
   "source": [
    "# sqlalchemy\n",
    "SQLAlchemy is the Python SQL toolkit and Object Relational Mapper that gives application developers the full power and flexibility of SQL.\n",
    "\n",
    "https://www.sqlalchemy.org/"
   ]
  },
  {
   "cell_type": "code",
   "execution_count": null,
   "id": "5494de29-2297-4f68-9bda-7d37de7bcaa8",
   "metadata": {},
   "outputs": [],
   "source": [
    "if exp_mysql_azure:\n",
    "    # Opret forbindelse\n",
    "    from sqlalchemy import create_engine\n",
    "    from sqlalchemy_utils import database_exists, create_database"
   ]
  },
  {
   "cell_type": "code",
   "execution_count": null,
   "id": "d665e923-2f93-4824-80fe-0e209ceb0f95",
   "metadata": {},
   "outputs": [],
   "source": [
    "# Create database hvis den ikke findes\n",
    "if exp_mysql_azure:\n",
    "    # Connection\n",
    "    # Connect\n",
    "    my_conn = create_engine(f\"mysql://{username}:{password}@{host}:{port}\")\n",
    "\n",
    "    with my_conn.connect() as conn:\n",
    "        conn.execute(f\"CREATE DATABASE IF NOT EXISTS {db_name}\")\n",
    "\n",
    "    # Vælg database\n",
    "    my_conn.execute(f\"USE {db_name}\")"
   ]
  },
  {
   "cell_type": "code",
   "execution_count": null,
   "id": "9849d029-0396-4028-8cce-fb2cc83d0410",
   "metadata": {},
   "outputs": [],
   "source": [
    "if exp_mysql_azure:\n",
    "    # Opret tabeller og overfør data\n",
    "    # Der er en bug i Pandas der gør at if_exists=\"replace\" ikke virker!!\n",
    "    # products\n",
    "    df_products.to_sql('products', my_conn, if_exists=\"append\", index=False)\n",
    "\n",
    "    # customers\n",
    "    df_customers.to_sql('customers', my_conn, if_exists='append', index=False)\n",
    "\n",
    "    # orderlines\n",
    "    df_order.to_sql('orderlines', my_conn, if_exists='append', index=False)\n",
    "\n",
    "    # employee\n",
    "    df_employee.to_sql('employee', my_conn, if_exists='append', index=False)"
   ]
  },
  {
   "cell_type": "code",
   "execution_count": null,
   "id": "46d7c782-8bcb-492f-bc62-a7334c838dce",
   "metadata": {},
   "outputs": [],
   "source": [
    "# Chack om der er overført data\n",
    "pd.read_sql(\"select * from products;\", my_conn)"
   ]
  },
  {
   "cell_type": "code",
   "execution_count": null,
   "id": "6ff83108-d74d-42fa-ac78-aabfea1e3452",
   "metadata": {},
   "outputs": [],
   "source": []
  }
 ],
 "metadata": {
  "kernelspec": {
   "display_name": "Python 3",
   "language": "python",
   "name": "python3"
  },
  "language_info": {
   "codemirror_mode": {
    "name": "ipython",
    "version": 3
   },
   "file_extension": ".py",
   "mimetype": "text/x-python",
   "name": "python",
   "nbconvert_exporter": "python",
   "pygments_lexer": "ipython3",
   "version": "3.9.7"
  }
 },
 "nbformat": 4,
 "nbformat_minor": 5
}
